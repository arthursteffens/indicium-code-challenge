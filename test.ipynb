{
 "cells": [
  {
   "cell_type": "code",
   "execution_count": 1,
   "metadata": {},
   "outputs": [],
   "source": [
    "import yaml\n",
    "import logging\n",
    "\n",
    "\n",
    "with open(\"docker-compose.yml\", \"r\") as file:\n",
    "    yml = yaml.safe_load(file)\n",
    "\n",
    "class DBCred():\n",
    "    def __init__(self, service) -> None:\n",
    "        try:\n",
    "            db =  yml[\"services\"][service]\n",
    "            env = db[\"environment\"]\n",
    "\n",
    "            if service == \"pg_db\":\n",
    "                self.db_name = env[\"POSTGRES_DB\"]\n",
    "                self.db_prefix = \"POSTGRES\"\n",
    "            if service == \"mysql_db\":\n",
    "                self.db_name = env[\"MYSQL_DATABASE\"]\n",
    "                self.db_prefix = \"MYSQL\"\n",
    "\n",
    "            self.dsn =  f\"\"\"\n",
    "                host={\"localhost\"}\n",
    "                dbname={self.db_name}\n",
    "                user={env[f\"{self.db_prefix}_USER\"]}\n",
    "                password={env[f\"{self.db_prefix}_PASSWORD\"]}\n",
    "                port={yml[\"services\"][service][\"ports\"][0].split(\":\")[0]}\n",
    "            \"\"\"\n",
    "        except Exception as e:\n",
    "            logging.error(f\"Invalid docker-compose.yml: {e}\")"
   ]
  },
  {
   "cell_type": "code",
   "execution_count": 11,
   "metadata": {},
   "outputs": [],
   "source": [
    "\n",
    "source_db_cred = DBCred(\"pg_db\")\n",
    "destiny_db_cred = DBCred(\"mysql_db\")"
   ]
  },
  {
   "cell_type": "code",
   "execution_count": 9,
   "metadata": {},
   "outputs": [],
   "source": [
    "import psycopg2"
   ]
  },
  {
   "cell_type": "code",
   "execution_count": null,
   "metadata": {},
   "outputs": [],
   "source": []
  },
  {
   "cell_type": "code",
   "execution_count": 12,
   "metadata": {},
   "outputs": [],
   "source": [
    "class Database():\n",
    "    def __init__(self, db_cred):\n",
    "        self.name = db_cred.db_name\n",
    "        self.credentials_dsn = db_cred.dsn\n",
    "        self.conn = self.connect()\n",
    "        self.cur = self.conn.cursor()\n",
    "    \n",
    "    def connect(self):\n",
    "        try:\n",
    "            return psycopg2.connect(self.credentials_dsn)\n",
    "        except Exception as error:\n",
    "            print(\"erro\")\n",
    "\n",
    "    def get_table_names(self, cursor, sql):\n",
    "        \"\"\"\n",
    "            Retrieve name of tables from source DB\n",
    "            return 'list' : 'table_names'\n",
    "        \"\"\"\n",
    "        try:\n",
    "            cursor.execute(sql)\n",
    "            results = cursor.fetchall()\n",
    "            table_names = [table_name[0] for table_name in results]\n",
    "            print(f\"Got {len(table_names)} tables: {table_names} \\n\")\n",
    "            return table_names\n",
    "        except Exception as e:\n",
    "            print(f\"Error retrieving table names, check database status or SQL syntax: \\n{e}\")\n",
    "\n",
    "    def close_conn(self):\n",
    "        self.cur.close()\n",
    "        self.conn.close()\n",
    "\n"
   ]
  },
  {
   "cell_type": "code",
   "execution_count": 13,
   "metadata": {},
   "outputs": [],
   "source": [
    "source_db = Database(db_cred=source_db_cred)"
   ]
  },
  {
   "cell_type": "code",
   "execution_count": 15,
   "metadata": {},
   "outputs": [
    {
     "ename": "TypeError",
     "evalue": "Database.get_table_names() missing 2 required positional arguments: 'cursor' and 'sql'",
     "output_type": "error",
     "traceback": [
      "\u001b[1;31m---------------------------------------------------------------------------\u001b[0m",
      "\u001b[1;31mTypeError\u001b[0m                                 Traceback (most recent call last)",
      "Cell \u001b[1;32mIn[15], line 1\u001b[0m\n\u001b[1;32m----> 1\u001b[0m source_db\u001b[39m.\u001b[39;49mget_table_names()\n",
      "\u001b[1;31mTypeError\u001b[0m: Database.get_table_names() missing 2 required positional arguments: 'cursor' and 'sql'"
     ]
    }
   ],
   "source": [
    "source_db.get_table_names()"
   ]
  },
  {
   "cell_type": "code",
   "execution_count": 10,
   "metadata": {},
   "outputs": [
    {
     "ename": "TypeError",
     "evalue": "Expected bytes or unicode string, got DBCred instead",
     "output_type": "error",
     "traceback": [
      "\u001b[1;31m---------------------------------------------------------------------------\u001b[0m",
      "\u001b[1;31mTypeError\u001b[0m                                 Traceback (most recent call last)",
      "Cell \u001b[1;32mIn[10], line 1\u001b[0m\n\u001b[1;32m----> 1\u001b[0m conn \u001b[39m=\u001b[39m psycopg2\u001b[39m.\u001b[39;49mconnect(source_db_cred)\n\u001b[0;32m      2\u001b[0m cursor \u001b[39m=\u001b[39m conn\u001b[39m.\u001b[39mcursor()\n",
      "File \u001b[1;32md:\\Meus documentos\\dev\\indicium-challenge-new\\venv\\lib\\site-packages\\psycopg2\\__init__.py:121\u001b[0m, in \u001b[0;36mconnect\u001b[1;34m(dsn, connection_factory, cursor_factory, **kwargs)\u001b[0m\n\u001b[0;32m    118\u001b[0m \u001b[39mif\u001b[39;00m \u001b[39m'\u001b[39m\u001b[39masync_\u001b[39m\u001b[39m'\u001b[39m \u001b[39min\u001b[39;00m kwargs:\n\u001b[0;32m    119\u001b[0m     kwasync[\u001b[39m'\u001b[39m\u001b[39masync_\u001b[39m\u001b[39m'\u001b[39m] \u001b[39m=\u001b[39m kwargs\u001b[39m.\u001b[39mpop(\u001b[39m'\u001b[39m\u001b[39masync_\u001b[39m\u001b[39m'\u001b[39m)\n\u001b[1;32m--> 121\u001b[0m dsn \u001b[39m=\u001b[39m _ext\u001b[39m.\u001b[39mmake_dsn(dsn, \u001b[39m*\u001b[39m\u001b[39m*\u001b[39mkwargs)\n\u001b[0;32m    122\u001b[0m conn \u001b[39m=\u001b[39m _connect(dsn, connection_factory\u001b[39m=\u001b[39mconnection_factory, \u001b[39m*\u001b[39m\u001b[39m*\u001b[39mkwasync)\n\u001b[0;32m    123\u001b[0m \u001b[39mif\u001b[39;00m cursor_factory \u001b[39mis\u001b[39;00m \u001b[39mnot\u001b[39;00m \u001b[39mNone\u001b[39;00m:\n",
      "File \u001b[1;32md:\\Meus documentos\\dev\\indicium-challenge-new\\venv\\lib\\site-packages\\psycopg2\\extensions.py:145\u001b[0m, in \u001b[0;36mmake_dsn\u001b[1;34m(dsn, **kwargs)\u001b[0m\n\u001b[0;32m    143\u001b[0m \u001b[39m# If no kwarg is specified don't mung the dsn, but verify it\u001b[39;00m\n\u001b[0;32m    144\u001b[0m \u001b[39mif\u001b[39;00m \u001b[39mnot\u001b[39;00m kwargs:\n\u001b[1;32m--> 145\u001b[0m     parse_dsn(dsn)\n\u001b[0;32m    146\u001b[0m     \u001b[39mreturn\u001b[39;00m dsn\n\u001b[0;32m    148\u001b[0m \u001b[39m# Override the dsn with the parameters\u001b[39;00m\n",
      "\u001b[1;31mTypeError\u001b[0m: Expected bytes or unicode string, got DBCred instead"
     ]
    }
   ],
   "source": [
    "conn = psycopg2.connect(source_db_cred)\n",
    "cursor = conn.cursor()"
   ]
  },
  {
   "cell_type": "code",
   "execution_count": null,
   "metadata": {},
   "outputs": [],
   "source": []
  },
  {
   "cell_type": "code",
   "execution_count": null,
   "metadata": {},
   "outputs": [],
   "source": []
  },
  {
   "cell_type": "code",
   "execution_count": null,
   "metadata": {},
   "outputs": [],
   "source": []
  }
 ],
 "metadata": {
  "kernelspec": {
   "display_name": "venv",
   "language": "python",
   "name": "python3"
  },
  "language_info": {
   "codemirror_mode": {
    "name": "ipython",
    "version": 3
   },
   "file_extension": ".py",
   "mimetype": "text/x-python",
   "name": "python",
   "nbconvert_exporter": "python",
   "pygments_lexer": "ipython3",
   "version": "3.10.5"
  },
  "orig_nbformat": 4,
  "vscode": {
   "interpreter": {
    "hash": "f983acfe50181cc55a8413f0e206b917d75ea4ed04a30e25c8229e8dfdf5bf18"
   }
  }
 },
 "nbformat": 4,
 "nbformat_minor": 2
}
