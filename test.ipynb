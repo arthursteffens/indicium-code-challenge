{
 "cells": [
  {
   "cell_type": "code",
   "execution_count": 62,
   "metadata": {},
   "outputs": [
    {
     "name": "stderr",
     "output_type": "stream",
     "text": [
      "ERROR:root:Invalid docker-compose.yml: 'POSTGRES_USER'\n"
     ]
    }
   ],
   "source": [
    "import yaml\n",
    "import logging\n",
    "\n",
    "\n",
    "with open(\"docker-compose.yml\", \"r\") as file:\n",
    "    yml = yaml.safe_load(file)\n",
    "\n",
    "class DBCred():\n",
    "    def __init__(self, service) -> None:\n",
    "        try:\n",
    "            db =  yml[\"services\"][service]\n",
    "            env = db[\"environment\"]\n",
    "\n",
    "            if service == \"pg_db\":\n",
    "                self.db_name = env[\"POSTGRES_DB\"]\n",
    "            if service == \"mysql_db\":\n",
    "                self.db_name = env[\"MYSQL_DATABASE\"]\n",
    "\n",
    "            self.dsn =  f\"\"\"\n",
    "                host={\"localhost\"}\n",
    "                dbname={self.db_name}\n",
    "                user={env[\"POSTGRES_USER\"]}\n",
    "                password={env[\"POSTGRES_PASSWORD\"]}\n",
    "                port={db[\"ports\"][0].split(\":\")[0]}\n",
    "            \"\"\"\n",
    "        except Exception as e:\n",
    "            logging.error(f\"Invalid docker-compose.yml: {e}\")\n",
    "\n",
    "\n",
    "source_db_cred = DBCred(\"pg_db\")\n",
    "destiny_db_cred = DBCred(\"mysql_db\")"
   ]
  },
  {
   "cell_type": "code",
   "execution_count": null,
   "metadata": {},
   "outputs": [],
   "source": []
  },
  {
   "cell_type": "code",
   "execution_count": null,
   "metadata": {},
   "outputs": [],
   "source": []
  },
  {
   "cell_type": "code",
   "execution_count": null,
   "metadata": {},
   "outputs": [],
   "source": []
  },
  {
   "cell_type": "code",
   "execution_count": null,
   "metadata": {},
   "outputs": [],
   "source": []
  },
  {
   "cell_type": "code",
   "execution_count": null,
   "metadata": {},
   "outputs": [],
   "source": []
  }
 ],
 "metadata": {
  "kernelspec": {
   "display_name": "venv",
   "language": "python",
   "name": "python3"
  },
  "language_info": {
   "codemirror_mode": {
    "name": "ipython",
    "version": 3
   },
   "file_extension": ".py",
   "mimetype": "text/x-python",
   "name": "python",
   "nbconvert_exporter": "python",
   "pygments_lexer": "ipython3",
   "version": "3.11.0"
  },
  "orig_nbformat": 4,
  "vscode": {
   "interpreter": {
    "hash": "d2cb1342d4da106c8b374972692df7f5dc1bc21680e1ba0a51c500fe5d616fb1"
   }
  }
 },
 "nbformat": 4,
 "nbformat_minor": 2
}
